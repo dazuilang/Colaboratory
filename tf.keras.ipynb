{
  "nbformat": 4,
  "nbformat_minor": 0,
  "metadata": {
    "colab": {
      "name": "keras.ipynb",
      "version": "0.3.2",
      "provenance": [],
      "include_colab_link": true
    },
    "kernelspec": {
      "name": "python3",
      "display_name": "Python 3"
    },
    "accelerator": "TPU"
  },
  "cells": [
    {
      "cell_type": "markdown",
      "metadata": {
        "id": "view-in-github",
        "colab_type": "text"
      },
      "source": [
        "<a href=\"https://colab.research.google.com/github/dazuilang/Colaboratory/blob/master/tf.keras.ipynb\" target=\"_parent\"><img src=\"https://colab.research.google.com/assets/colab-badge.svg\" alt=\"Open In Colab\"/></a>"
      ]
    },
    {
      "metadata": {
        "id": "nKPaYapC8nX6",
        "colab_type": "code",
        "colab": {}
      },
      "cell_type": "code",
      "source": [
        "import tensorflow as tf\n",
        "from tensorflow import keras"
      ],
      "execution_count": 0,
      "outputs": []
    },
    {
      "metadata": {
        "id": "YB1fgYa49mcJ",
        "colab_type": "code",
        "colab": {}
      },
      "cell_type": "code",
      "source": [
        "model = keras.Sequential()\n",
        "# Adds a densely-connected layer with 64 units to the model:\n",
        "model.add(keras.layers.Dense(64, activation='relu'))\n",
        "# Add another:\n",
        "model.add(keras.layers.Dense(64, activation='relu'))\n",
        "# Add a softmax layer with 10 output units:\n",
        "model.add(keras.layers.Dense(10, activation='softmax'))"
      ],
      "execution_count": 0,
      "outputs": []
    },
    {
      "metadata": {
        "id": "EnZckQzM9omr",
        "colab_type": "code",
        "colab": {
          "base_uri": "https://localhost:8080/",
          "height": 34
        },
        "outputId": "f9c7d0dc-57e6-4c5e-9fd1-81331f5f293e"
      },
      "cell_type": "code",
      "source": [
        "# Create a sigmoid layer:\n",
        "keras.layers.Dense(64, activation='sigmoid')\n",
        "# Or:\n",
        "keras.layers.Dense(64, activation=tf.sigmoid)\n",
        "\n",
        "# A linear layer with L1 regularization of factor 0.01 applied to the kernel matrix:\n",
        "keras.layers.Dense(64, kernel_regularizer=keras.regularizers.l1(0.01))\n",
        "# A linear layer with L2 regularization of factor 0.01 applied to the bias vector:\n",
        "keras.layers.Dense(64, bias_regularizer=keras.regularizers.l2(0.01))\n",
        "\n",
        "# A linear layer with a kernel initialized to a random orthogonal matrix:\n",
        "keras.layers.Dense(64, kernel_initializer='orthogonal')\n",
        "# A linear layer with a bias vector initialized to 2.0s:\n",
        "keras.layers.Dense(64, bias_initializer=keras.initializers.constant(2.0))"
      ],
      "execution_count": 4,
      "outputs": [
        {
          "output_type": "execute_result",
          "data": {
            "text/plain": [
              "<tensorflow.python.keras.layers.core.Dense at 0x7f1c68a214a8>"
            ]
          },
          "metadata": {
            "tags": []
          },
          "execution_count": 4
        }
      ]
    },
    {
      "metadata": {
        "id": "CPQM-1WT-Orh",
        "colab_type": "code",
        "colab": {}
      },
      "cell_type": "code",
      "source": [
        "model.compile(optimizer=tf.train.AdamOptimizer(0.001),\n",
        "              loss='categorical_crossentropy',\n",
        "              metrics=['accuracy'])"
      ],
      "execution_count": 0,
      "outputs": []
    },
    {
      "metadata": {
        "id": "fJOu-s7VvIBV",
        "colab_type": "code",
        "colab": {}
      },
      "cell_type": "code",
      "source": [
        "# Configure a model for mean-squared error regression.\n",
        "model.compile(optimizer=tf.train.AdamOptimizer(0.01),\n",
        "              loss='mse',       # mean squared error\n",
        "              metrics=['mae'])  # mean absolute error\n",
        "\n",
        "# Configure a model for categorical classification.\n",
        "model.compile(optimizer=tf.train.RMSPropOptimizer(0.01),\n",
        "              loss=keras.losses.categorical_crossentropy,\n",
        "              metrics=[keras.metrics.categorical_accuracy])"
      ],
      "execution_count": 0,
      "outputs": []
    },
    {
      "metadata": {
        "id": "eTmVbMO3v2Cd",
        "colab_type": "code",
        "colab": {
          "base_uri": "https://localhost:8080/",
          "height": 370
        },
        "outputId": "c63f6548-0a26-4e5c-b7ca-1f5d880353ce"
      },
      "cell_type": "code",
      "source": [
        "import numpy as np\n",
        "\n",
        "data = np.random.random((1000, 32))\n",
        "labels = np.random.random((1000, 10))\n",
        "\n",
        "model.fit(data, labels, epochs=10, batch_size=32)"
      ],
      "execution_count": 7,
      "outputs": [
        {
          "output_type": "stream",
          "text": [
            "Epoch 1/10\n",
            "1000/1000 [==============================] - 1s 845us/step - loss: 11.5199 - categorical_accuracy: 0.0980\n",
            "Epoch 2/10\n",
            "1000/1000 [==============================] - 0s 52us/step - loss: 11.4757 - categorical_accuracy: 0.0940\n",
            "Epoch 3/10\n",
            "1000/1000 [==============================] - 0s 50us/step - loss: 11.4588 - categorical_accuracy: 0.1190\n",
            "Epoch 4/10\n",
            "1000/1000 [==============================] - 0s 52us/step - loss: 11.4496 - categorical_accuracy: 0.0960\n",
            "Epoch 5/10\n",
            "1000/1000 [==============================] - 0s 54us/step - loss: 11.4476 - categorical_accuracy: 0.1090\n",
            "Epoch 6/10\n",
            "1000/1000 [==============================] - 0s 60us/step - loss: 11.4459 - categorical_accuracy: 0.1110\n",
            "Epoch 7/10\n",
            "1000/1000 [==============================] - 0s 53us/step - loss: 11.4422 - categorical_accuracy: 0.1010\n",
            "Epoch 8/10\n",
            "1000/1000 [==============================] - 0s 53us/step - loss: 11.4433 - categorical_accuracy: 0.0970\n",
            "Epoch 9/10\n",
            "1000/1000 [==============================] - 0s 61us/step - loss: 11.4383 - categorical_accuracy: 0.1230\n",
            "Epoch 10/10\n",
            "1000/1000 [==============================] - 0s 52us/step - loss: 11.4352 - categorical_accuracy: 0.1460\n"
          ],
          "name": "stdout"
        },
        {
          "output_type": "execute_result",
          "data": {
            "text/plain": [
              "<tensorflow.python.keras.callbacks.History at 0x7f1c68a210f0>"
            ]
          },
          "metadata": {
            "tags": []
          },
          "execution_count": 7
        }
      ]
    },
    {
      "metadata": {
        "id": "9le1Alg8wJm-",
        "colab_type": "code",
        "colab": {
          "base_uri": "https://localhost:8080/",
          "height": 386
        },
        "outputId": "89988779-afb6-4e14-8186-9144ea41e9db"
      },
      "cell_type": "code",
      "source": [
        "import numpy as np\n",
        "\n",
        "data = np.random.random((1000, 32))\n",
        "labels = np.random.random((1000, 10))\n",
        "\n",
        "val_data = np.random.random((100, 32))\n",
        "val_labels = np.random.random((100, 10))\n",
        "\n",
        "model.fit(data, labels, epochs=10, batch_size=32,\n",
        "          validation_data=(val_data, val_labels))"
      ],
      "execution_count": 8,
      "outputs": [
        {
          "output_type": "stream",
          "text": [
            "Train on 1000 samples, validate on 100 samples\n",
            "Epoch 1/10\n",
            "1000/1000 [==============================] - 0s 101us/step - loss: 11.5725 - categorical_accuracy: 0.0900 - val_loss: 11.6511 - val_categorical_accuracy: 0.1400\n",
            "Epoch 2/10\n",
            "1000/1000 [==============================] - 0s 53us/step - loss: 11.5704 - categorical_accuracy: 0.0980 - val_loss: 11.6502 - val_categorical_accuracy: 0.1200\n",
            "Epoch 3/10\n",
            "1000/1000 [==============================] - 0s 51us/step - loss: 11.5712 - categorical_accuracy: 0.1000 - val_loss: 11.6467 - val_categorical_accuracy: 0.0800\n",
            "Epoch 4/10\n",
            "1000/1000 [==============================] - 0s 55us/step - loss: 11.5690 - categorical_accuracy: 0.1040 - val_loss: 11.6466 - val_categorical_accuracy: 0.0600\n",
            "Epoch 5/10\n",
            "1000/1000 [==============================] - 0s 70us/step - loss: 11.5684 - categorical_accuracy: 0.1120 - val_loss: 11.6565 - val_categorical_accuracy: 0.1000\n",
            "Epoch 6/10\n",
            "1000/1000 [==============================] - 0s 59us/step - loss: 11.5660 - categorical_accuracy: 0.0990 - val_loss: 11.6545 - val_categorical_accuracy: 0.0800\n",
            "Epoch 7/10\n",
            "1000/1000 [==============================] - 0s 54us/step - loss: 11.5653 - categorical_accuracy: 0.1250 - val_loss: 11.6618 - val_categorical_accuracy: 0.0800\n",
            "Epoch 8/10\n",
            "1000/1000 [==============================] - 0s 56us/step - loss: 11.5604 - categorical_accuracy: 0.1320 - val_loss: 11.6653 - val_categorical_accuracy: 0.0800\n",
            "Epoch 9/10\n",
            "1000/1000 [==============================] - 0s 54us/step - loss: 11.5580 - categorical_accuracy: 0.1370 - val_loss: 11.7049 - val_categorical_accuracy: 0.0700\n",
            "Epoch 10/10\n",
            "1000/1000 [==============================] - 0s 52us/step - loss: 11.5579 - categorical_accuracy: 0.1270 - val_loss: 11.6701 - val_categorical_accuracy: 0.1100\n"
          ],
          "name": "stdout"
        },
        {
          "output_type": "execute_result",
          "data": {
            "text/plain": [
              "<tensorflow.python.keras.callbacks.History at 0x7f1c77ba4e80>"
            ]
          },
          "metadata": {
            "tags": []
          },
          "execution_count": 8
        }
      ]
    },
    {
      "metadata": {
        "id": "atup_Syuwqbu",
        "colab_type": "code",
        "colab": {
          "base_uri": "https://localhost:8080/",
          "height": 370
        },
        "outputId": "5eadb6f0-d48f-4e85-8729-c748c1b71068"
      },
      "cell_type": "code",
      "source": [
        "# Instantiates a toy dataset instance:\n",
        "dataset = tf.data.Dataset.from_tensor_slices((data, labels))\n",
        "dataset = dataset.batch(32)\n",
        "dataset = dataset.repeat()\n",
        "\n",
        "# Don't forget to specify `steps_per_epoch` when calling `fit` on a dataset.\n",
        "model.fit(dataset, epochs=10, steps_per_epoch=30)"
      ],
      "execution_count": 9,
      "outputs": [
        {
          "output_type": "stream",
          "text": [
            "Epoch 1/10\n",
            "30/30 [==============================] - 0s 5ms/step - loss: 11.5376 - categorical_accuracy: 0.1354\n",
            "Epoch 2/10\n",
            "30/30 [==============================] - 0s 1ms/step - loss: 11.5791 - categorical_accuracy: 0.1552\n",
            "Epoch 3/10\n",
            "30/30 [==============================] - 0s 2ms/step - loss: 11.5780 - categorical_accuracy: 0.1510\n",
            "Epoch 4/10\n",
            "30/30 [==============================] - 0s 2ms/step - loss: 11.5573 - categorical_accuracy: 0.1333\n",
            "Epoch 5/10\n",
            "30/30 [==============================] - 0s 2ms/step - loss: 11.5218 - categorical_accuracy: 0.1406\n",
            "Epoch 6/10\n",
            "30/30 [==============================] - 0s 2ms/step - loss: 11.5157 - categorical_accuracy: 0.1573\n",
            "Epoch 7/10\n",
            "30/30 [==============================] - 0s 2ms/step - loss: 11.5504 - categorical_accuracy: 0.1396\n",
            "Epoch 8/10\n",
            "30/30 [==============================] - 0s 2ms/step - loss: 11.5339 - categorical_accuracy: 0.1771\n",
            "Epoch 9/10\n",
            "30/30 [==============================] - 0s 2ms/step - loss: 11.5125 - categorical_accuracy: 0.1844\n",
            "Epoch 10/10\n",
            "30/30 [==============================] - 0s 2ms/step - loss: 11.5272 - categorical_accuracy: 0.1729\n"
          ],
          "name": "stdout"
        },
        {
          "output_type": "execute_result",
          "data": {
            "text/plain": [
              "<tensorflow.python.keras.callbacks.History at 0x7f1c65dfa7b8>"
            ]
          },
          "metadata": {
            "tags": []
          },
          "execution_count": 9
        }
      ]
    },
    {
      "metadata": {
        "id": "XBIwpFgqxRYO",
        "colab_type": "code",
        "colab": {
          "base_uri": "https://localhost:8080/",
          "height": 370
        },
        "outputId": "79c850d8-a510-43a4-b680-6369b037b70a"
      },
      "cell_type": "code",
      "source": [
        "dataset = tf.data.Dataset.from_tensor_slices((data, labels))\n",
        "dataset = dataset.batch(32).repeat()\n",
        "\n",
        "val_dataset = tf.data.Dataset.from_tensor_slices((val_data, val_labels))\n",
        "val_dataset = val_dataset.batch(32).repeat()\n",
        "\n",
        "model.fit(dataset, epochs=10, steps_per_epoch=30,\n",
        "          validation_data=val_dataset,\n",
        "          validation_steps=3)"
      ],
      "execution_count": 10,
      "outputs": [
        {
          "output_type": "stream",
          "text": [
            "Epoch 1/10\n",
            "30/30 [==============================] - 0s 6ms/step - loss: 11.4935 - categorical_accuracy: 0.1917 - val_loss: 11.8022 - val_categorical_accuracy: 0.0729\n",
            "Epoch 2/10\n",
            "30/30 [==============================] - 0s 2ms/step - loss: 11.5280 - categorical_accuracy: 0.2031 - val_loss: 11.1174 - val_categorical_accuracy: 0.0938\n",
            "Epoch 3/10\n",
            "30/30 [==============================] - 0s 2ms/step - loss: 11.5287 - categorical_accuracy: 0.1802 - val_loss: 11.1566 - val_categorical_accuracy: 0.1250\n",
            "Epoch 4/10\n",
            "30/30 [==============================] - 0s 2ms/step - loss: 11.5041 - categorical_accuracy: 0.2031 - val_loss: 11.1488 - val_categorical_accuracy: 0.1562\n",
            "Epoch 5/10\n",
            "30/30 [==============================] - 0s 1ms/step - loss: 11.4723 - categorical_accuracy: 0.1948 - val_loss: 11.8016 - val_categorical_accuracy: 0.0938\n",
            "Epoch 6/10\n",
            "30/30 [==============================] - 0s 2ms/step - loss: 11.4737 - categorical_accuracy: 0.1937 - val_loss: 11.1096 - val_categorical_accuracy: 0.1146\n",
            "Epoch 7/10\n",
            "30/30 [==============================] - 0s 1ms/step - loss: 11.5051 - categorical_accuracy: 0.2156 - val_loss: 11.1510 - val_categorical_accuracy: 0.0521\n",
            "Epoch 8/10\n",
            "30/30 [==============================] - 0s 2ms/step - loss: 11.4949 - categorical_accuracy: 0.1937 - val_loss: 11.1354 - val_categorical_accuracy: 0.1562\n",
            "Epoch 9/10\n",
            "30/30 [==============================] - 0s 2ms/step - loss: 11.4768 - categorical_accuracy: 0.2021 - val_loss: 11.7784 - val_categorical_accuracy: 0.0625\n",
            "Epoch 10/10\n",
            "30/30 [==============================] - 0s 2ms/step - loss: 11.4845 - categorical_accuracy: 0.1917 - val_loss: 11.1260 - val_categorical_accuracy: 0.1146\n"
          ],
          "name": "stdout"
        },
        {
          "output_type": "execute_result",
          "data": {
            "text/plain": [
              "<tensorflow.python.keras.callbacks.History at 0x7f1c6559bda0>"
            ]
          },
          "metadata": {
            "tags": []
          },
          "execution_count": 10
        }
      ]
    },
    {
      "metadata": {
        "id": "-3OgBekZyFHO",
        "colab_type": "code",
        "colab": {
          "base_uri": "https://localhost:8080/",
          "height": 202
        },
        "outputId": "fc41a2ae-0899-479f-8a34-27cb70d92c32"
      },
      "cell_type": "code",
      "source": [
        "inputs = keras.Input(shape=(32,))  # Returns a placeholder tensor\n",
        "\n",
        "# A layer instance is callable on a tensor, and returns a tensor.\n",
        "x = keras.layers.Dense(64, activation='relu')(inputs)\n",
        "x = keras.layers.Dense(64, activation='relu')(x)\n",
        "predictions = keras.layers.Dense(10, activation='softmax')(x)\n",
        "\n",
        "# Instantiate the model given inputs and outputs.\n",
        "model = keras.Model(inputs=inputs, outputs=predictions)\n",
        "\n",
        "# The compile step specifies the training configuration.\n",
        "model.compile(optimizer=tf.train.RMSPropOptimizer(0.001),\n",
        "              loss='categorical_crossentropy',\n",
        "              metrics=['accuracy'])\n",
        "\n",
        "# Trains for 5 epochs\n",
        "model.fit(data, labels, batch_size=32, epochs=5)"
      ],
      "execution_count": 12,
      "outputs": [
        {
          "output_type": "stream",
          "text": [
            "Epoch 1/5\n",
            "1000/1000 [==============================] - 0s 233us/step - loss: 11.6508 - acc: 0.1060\n",
            "Epoch 2/5\n",
            "1000/1000 [==============================] - 0s 48us/step - loss: 11.6087 - acc: 0.0980\n",
            "Epoch 3/5\n",
            "1000/1000 [==============================] - 0s 53us/step - loss: 11.5909 - acc: 0.1050\n",
            "Epoch 4/5\n",
            "1000/1000 [==============================] - 0s 50us/step - loss: 11.5799 - acc: 0.1080\n",
            "Epoch 5/5\n",
            "1000/1000 [==============================] - 0s 45us/step - loss: 11.5708 - acc: 0.1250\n"
          ],
          "name": "stdout"
        },
        {
          "output_type": "execute_result",
          "data": {
            "text/plain": [
              "<tensorflow.python.keras.callbacks.History at 0x7f1c644dec50>"
            ]
          },
          "metadata": {
            "tags": []
          },
          "execution_count": 12
        }
      ]
    },
    {
      "metadata": {
        "id": "MZ1go7wcyjk3",
        "colab_type": "code",
        "colab": {
          "base_uri": "https://localhost:8080/",
          "height": 202
        },
        "outputId": "0f5ca26e-077d-4352-9668-6915f85ced0b"
      },
      "cell_type": "code",
      "source": [
        "class MyModel(keras.Model):\n",
        "\n",
        "  def __init__(self, num_classes=10):\n",
        "    super(MyModel, self).__init__(name='my_model')\n",
        "    self.num_classes = num_classes\n",
        "    # Define your layers here.\n",
        "    self.dense_1 = keras.layers.Dense(32, activation='relu')\n",
        "    self.dense_2 = keras.layers.Dense(num_classes, activation='sigmoid')\n",
        "\n",
        "  def call(self, inputs):\n",
        "    # Define your forward pass here,\n",
        "    # using layers you previously defined (in `__init__`).\n",
        "    x = self.dense_1(inputs)\n",
        "    return self.dense_2(x)\n",
        "\n",
        "  def compute_output_shape(self, input_shape):\n",
        "    # You need to override this function if you want to use the subclassed model\n",
        "    # as part of a functional-style model.\n",
        "    # Otherwise, this method is optional.\n",
        "    shape = tf.TensorShape(input_shape).as_list()\n",
        "    shape[-1] = self.num_classes\n",
        "    return tf.TensorShape(shape)\n",
        "\n",
        "\n",
        "# Instantiates the subclassed model.\n",
        "model = MyModel(num_classes=10)\n",
        "\n",
        "# The compile step specifies the training configuration.\n",
        "model.compile(optimizer=tf.train.RMSPropOptimizer(0.001),\n",
        "              loss='categorical_crossentropy',\n",
        "              metrics=['accuracy'])\n",
        "\n",
        "# Trains for 5 epochs.\n",
        "model.fit(data, labels, batch_size=32, epochs=5)"
      ],
      "execution_count": 13,
      "outputs": [
        {
          "output_type": "stream",
          "text": [
            "Epoch 1/5\n",
            "1000/1000 [==============================] - 0s 260us/step - loss: 11.6689 - acc: 0.1020\n",
            "Epoch 2/5\n",
            "1000/1000 [==============================] - 0s 46us/step - loss: 11.6415 - acc: 0.0990\n",
            "Epoch 3/5\n",
            "1000/1000 [==============================] - 0s 41us/step - loss: 11.6087 - acc: 0.0840\n",
            "Epoch 4/5\n",
            "1000/1000 [==============================] - 0s 43us/step - loss: 11.5970 - acc: 0.0860\n",
            "Epoch 5/5\n",
            "1000/1000 [==============================] - 0s 43us/step - loss: 11.5895 - acc: 0.0760\n"
          ],
          "name": "stdout"
        },
        {
          "output_type": "execute_result",
          "data": {
            "text/plain": [
              "<tensorflow.python.keras.callbacks.History at 0x7f1c641b2f28>"
            ]
          },
          "metadata": {
            "tags": []
          },
          "execution_count": 13
        }
      ]
    }
  ]
}